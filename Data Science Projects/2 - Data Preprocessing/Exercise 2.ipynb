{
 "cells": [
  {
   "cell_type": "markdown",
   "metadata": {},
   "source": [
    "# Exercise 2: Data Preprocessing\n",
    "\n",
    "Overview: The Bank Dataset contains 11 independent variables specifically age, region, income, sex, married, children, car, save_act, current_act, and mortgage and one response variable which answers the question: “Did the customer buy a PEP (Personal Equity Plan) after the last mailing?” with a yes/no response. Analyze this data beforehand using descriptive analytics and preprocess the data for use in various data mining algorithms.\n",
    "\n",
    "**Do or answer the following:**\n",
    "1) Load the dataset using `pandas`. The dataset is called *bankdata.csv*. Familiarize yourself with the data by identifying the columns.\n",
    "2) Descriptive Analytics and Visualization:\n",
    "    - What is the range of values of the `Age` variable? What are the minimum, maximum, and middle values?\n",
    "    - How many customers have a savings account? Current account?\n",
    "    - Calculate the means of `Age`, `Income` and `Children` by `PEP`, `Married`, and has `Car`.\n",
    "    - As `Age` increases, what pattern do you see in terms of buying a `PEP`?\n",
    "    - In terms of the number of children, what pattern do you see in terms of buying a `PEP`? For being married?\n",
    "    - Make a histogram of the `Income` variable. *Hint: Try using `matplotlib.pyplot.hist` for this.*\n",
    "        - What can you generalize from this histogram?\n",
    "    - Make a box plot of the `Income` variable by `PEP`. *Hint: Try using `matplotlib.pyplot.boxplot` for this.*\n",
    "        - What can you generalize from this box plot?\n",
    "    - Make a box plot of the `Income` variable by `region`.\n",
    "        - What can you generalize from this box plot?\n",
    "3) Data Transformation:\n",
    "    - Normalize the `Income` column into a [0,1] scale.\n",
    "    - Create an equal depth (frequency) variable for `Income` where the new variable could take in *low*, *medium*, and *high*.\n",
    "4) Sample 100 rows of the bank data without replacement.\n",
    "\n",
    "*Use a separate cell for your answers to each question.*\n"
   ]
  },
  {
   "cell_type": "markdown",
   "metadata": {},
   "source": [
    "The following cell contains the python modules you will need. You can use other modules if you want to. Ask for clarifications/help as needed.\n",
    "\n",
    "*Hint: You can simply **de-comment** the code in the following cell to install the required modules.*"
   ]
  },
  {
   "cell_type": "code",
   "execution_count": null,
   "metadata": {},
   "outputs": [],
   "source": [
    "# !pip install matplotlib\n",
    "# !pip install numpy\n",
    "# !pip install pandas"
   ]
  }
 ],
 "metadata": {
  "language_info": {
   "name": "python"
  }
 },
 "nbformat": 4,
 "nbformat_minor": 2
}

{
 "cells": [
  {
   "cell_type": "markdown",
   "metadata": {},
   "source": [
    "# Exercise 5: Deep Learning Classification\n",
    "\n",
    "## Overview\n",
    "Your task is to build an image classifier with Keras and Convolutional Neural Networks for the Fashion MNIST dataset. This data set includes 10 labels of different clothing types with 28 by 28 grayscale images. There is a training set of 60,000 images and 10,000 test images. It is up to you to determine the number of CONV, POOL and FC layers but make sure to test for overfitting.\n",
    "\n",
    "## The data\n",
    "There are a total of 10 clothing articles you need to predict for.\\\n",
    "<u>Label</u>&emsp;&emsp;<u>Description</u>\\\n",
    "0&emsp;&emsp;&emsp;&emsp;T-shirt/Top\\\n",
    "1&emsp;&emsp;&emsp;&emsp;Trouser\\\n",
    "2&emsp;&emsp;&emsp;&emsp;Pullover\\\n",
    "3&emsp;&emsp;&emsp;&emsp;Dress\\\n",
    "4&emsp;&emsp;&emsp;&emsp;Coat\\\n",
    "5&emsp;&emsp;&emsp;&emsp;Sandal\\\n",
    "6&emsp;&emsp;&emsp;&emsp;Shirt\\\n",
    "7&emsp;&emsp;&emsp;&emsp;Sneaker\\\n",
    "8&emsp;&emsp;&emsp;&emsp;Bag\\\n",
    "9&emsp;&emsp;&emsp;&emsp;Ankle boot"
   ]
  },
  {
   "cell_type": "markdown",
   "metadata": {},
   "source": [
    "Python modules you may need. You may use other modules if you wish."
   ]
  },
  {
   "cell_type": "code",
   "execution_count": null,
   "metadata": {},
   "outputs": [],
   "source": [
    "# !pip install matplotlib\n",
    "# !pip install numpy\n",
    "# !pip install pandas\n",
    "# !pip install tensorflow     #WARNING: Use Python 3.10 - 3.11 as tf does not support v3.12"
   ]
  }
 ],
 "metadata": {
  "language_info": {
   "name": "python"
  }
 },
 "nbformat": 4,
 "nbformat_minor": 2
}

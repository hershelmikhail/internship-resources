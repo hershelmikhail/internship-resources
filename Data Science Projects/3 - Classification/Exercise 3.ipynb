{
 "cells": [
  {
   "cell_type": "markdown",
   "metadata": {},
   "source": [
    "# Exercise 3: Classification\n",
    "\n",
    "## Introduction\n",
    "Churn rate, sometimes called attrition rate, is one of two primary factors that determine the steady-state level of customers a business will support. In its broadest sense, churn rate is a measure of the number of individuals or items moving into or out of a collection over a specific period of time. This data set contains a total of 2834 mobile subscriber mobile plans. There are 18 attributes that might affect churn. The classification goal is to predict if the customer will churn (True) or not (False) as well as to identify business rules that can help minimize customer attrition.\n",
    "\n",
    "## The variables\n",
    "1) Account Length: length of time in days the customer is using the plan.\n",
    "2) Area Code: Area code of the number\n",
    "3) Int'l Plan: plan has an international promo.\n",
    "4) VMail Plan: plan has a voicemail booster.\n",
    "5) VMail Message: number of voice mail messages received\n",
    "6) Day Mins: number of day minutes called (6am – 6pm)\n",
    "7) Day Calls: number of calls made\n",
    "8) Day Charge: total cost of day calls in USD\n",
    "9) Eve Mins: number of eve minutes called (6pm-12 midnight)\n",
    "10) Eve Calls: number of eve calls made\n",
    "11) Eve Charge: total cost of eve calls in USD\n",
    "12) Night Mins: number of night minutes called (12 midnight-6am)\n",
    "13) Night Calls: number of night calls made\n",
    "14) Night Charge: total cost of night calls in USD \n",
    "15) Intl Mins: number of international minutes called\n",
    "16) Intl Calls: number of international calls\n",
    "17) Intl Charge: total cost of international calls\n",
    "18) CustServ Calls: number of calls to call center for service support\n",
    "\n",
    "## Your task\n",
    "Your task is to create a simple classification model that will determine whether the customer, given the input variables, will churn. You are provided with the `ChurnTrain.csv` dataset. Here is a rough overview of your task:\n",
    "1) Prepare the dataset. Do any preprocessing necessary.\n",
    "2) Split the dataset into training and testing data.\n",
    "3) Create a classification model and train it on the training data.\n",
    "4) Test your model's accuracy on the testing data. Show the results.\n",
    "\n",
    "You may tweak your model to improve accuracy. Try going for an accuracy of at least 70%."
   ]
  },
  {
   "cell_type": "markdown",
   "metadata": {},
   "source": [
    "The following cell contains the python modules you may need. You may use other modules if you wish."
   ]
  },
  {
   "cell_type": "code",
   "execution_count": null,
   "metadata": {},
   "outputs": [],
   "source": [
    "# !pip install numpy\n",
    "# !pip install pandas\n",
    "# !pip install tensorflow     #WARNING: Use Python 3.10 - 3.11 as tf does not support v3.12."
   ]
  }
 ],
 "metadata": {
  "language_info": {
   "name": "python"
  }
 },
 "nbformat": 4,
 "nbformat_minor": 2
}

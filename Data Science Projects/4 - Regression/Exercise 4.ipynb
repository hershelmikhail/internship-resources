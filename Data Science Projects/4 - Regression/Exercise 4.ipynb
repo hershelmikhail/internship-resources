{
 "cells": [
  {
   "cell_type": "markdown",
   "metadata": {},
   "source": [
    "# Exercise 4: Regression Modeling\n",
    "\n",
    "## Introduction\n",
    "A study is proposed to predict the total time or equivalently total number of merchandiser Full Time Equivalents (FTE) needed to process a given supermarket shelf refilling needs. The ftepred.csv file contains 7 predictor variables and one response variable for each grocery store listed in the rows. \n",
    "\n",
    "## The variables\n",
    "1) ftewovertime (response): Total number of minutes required to do all work for a month in a specific. 1 FTE per month = 8 hours per day* 60 mins/hr * 22 days/month =10560 mins/month\n",
    "2) shelfarea: Total shelf area that all merchandiser needs to refill, clean and maintain\n",
    "3) distancetoexit: Distance in meters where merchandiser gets stock from warehouse to center of grocery area\n",
    "4) cannedgoods: Number of canned good cases refilled per month\n",
    "5) othergoods: Number of other goods refilled per month that are not cannedgoods\n",
    "6) icecream: Number of icecream cases refilled per month\n",
    "7) floordiff: Number of floors between warehouse and grocery store\n",
    "8) traveltime: Additional travel time needed to delivery stocks to shelf\n",
    "\n",
    "## Your task\n",
    "Fit a Linear Regression Model on the dataset and interpret results. Make sure to validate your model."
   ]
  },
  {
   "cell_type": "markdown",
   "metadata": {},
   "source": [
    "You may need the following python modules. You may use other modules as you wish."
   ]
  },
  {
   "cell_type": "code",
   "execution_count": null,
   "metadata": {},
   "outputs": [],
   "source": [
    "# !pip install matplotlib\n",
    "# !pip install numpy\n",
    "# !pip install tensorflow     #WARNING: Use Python 3.10 - 3.11 as tf does not support 3.12."
   ]
  }
 ],
 "metadata": {
  "language_info": {
   "name": "python"
  }
 },
 "nbformat": 4,
 "nbformat_minor": 2
}
